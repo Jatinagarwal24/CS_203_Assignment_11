{
  "nbformat": 4,
  "nbformat_minor": 0,
  "metadata": {
    "colab": {
      "provenance": [],
      "gpuType": "T4"
    },
    "kernelspec": {
      "name": "python3",
      "display_name": "Python 3"
    },
    "language_info": {
      "name": "python"
    },
    "accelerator": "GPU"
  },
  "cells": [
    {
      "cell_type": "code",
      "execution_count": 1,
      "metadata": {
        "colab": {
          "base_uri": "https://localhost:8080/"
        },
        "id": "GeJ6NPkl7XXJ",
        "outputId": "f81c411a-0671-4e6a-8332-453736c237f0"
      },
      "outputs": [
        {
          "output_type": "stream",
          "name": "stdout",
          "text": [
            "Training data:\n",
            "                                            sentence  label\n",
            "0  a stirring , funny and finally transporting re...      1\n",
            "1  apparently reassembled from the cutting room f...      0\n",
            "2  they presume their audience wo n't sit still f...      0\n",
            "3  this is a visually stunning rumination on love...      1\n",
            "4  jonathan parker 's bartleby should have been t...      1\n",
            "\n",
            "Test data:\n",
            "                                            sentence  label\n",
            "0       no movement , no yuks , not much of anything      0\n",
            "1  a gob of drivel so sickly sweet , even the eag...      0\n",
            "2  gangs of new york is an unapologetic mess , wh...      0\n",
            "3  we never really feel involved with the story ,...      0\n",
            "4              this is one of polanski 's best films      1\n",
            "Training data shape: (5536, 2)\n",
            "Validation data shape: (1384, 2)\n",
            "Test data shape: (1821, 2)\n",
            "\n",
            "Updated Training Data:\n",
            "                                               sentence  label\n",
            "4457  graphic sex may be what 's attracting audience...      1\n",
            "2471               perhaps the grossest movie ever made      0\n",
            "26    the film is moody , oozing , chilling and hear...      1\n",
            "4828  watching the chemistry between freeman and jud...      1\n",
            "63    the wonderfully lush morvern callar is pure pu...      1\n"
          ]
        }
      ],
      "source": [
        "import pandas as pd\n",
        "from sklearn.model_selection import train_test_split\n",
        "\n",
        "# Load the training and test data from the URLs\n",
        "train_url = \"https://raw.githubusercontent.com/clairett/pytorch-sentiment-classification/master/data/SST2/train.tsv\"\n",
        "test_url = \"https://raw.githubusercontent.com/clairett/pytorch-sentiment-classification/master/data/SST2/test.tsv\"\n",
        "\n",
        "# Load the datasets into pandas DataFrames without headers\n",
        "train_data = pd.read_csv(train_url, sep='\\t', header=None)\n",
        "test_data = pd.read_csv(test_url, sep='\\t', header=None)\n",
        "\n",
        "# Assign column names: column 0 is the sentence, column 1 is the label\n",
        "train_data.columns = ['sentence', 'label']\n",
        "test_data.columns = ['sentence', 'label']\n",
        "\n",
        "# Display first few rows to check the data\n",
        "print(\"Training data:\")\n",
        "print(train_data.head())\n",
        "print(\"\\nTest data:\")\n",
        "print(test_data.head())\n",
        "\n",
        "# Function to separate the sentence and label\n",
        "def separate_label_and_sentence(data):\n",
        "    sentences = data['sentence'].tolist()  # Directly take sentences\n",
        "    labels = data['label'].tolist()  # Directly take labels\n",
        "    return sentences, labels\n",
        "\n",
        "# Apply the function to both train and test data\n",
        "train_sentences, train_labels = separate_label_and_sentence(train_data)\n",
        "test_sentences, test_labels = separate_label_and_sentence(test_data)\n",
        "\n",
        "# Update the train_data and test_data with the new sentence and label columns\n",
        "train_data['sentence'] = train_sentences\n",
        "train_data['label'] = train_labels\n",
        "\n",
        "test_data['sentence'] = test_sentences\n",
        "test_data['label'] = test_labels\n",
        "\n",
        "# Split the training data into training and validation sets (80% train, 20% validation)\n",
        "train_data, val_data = train_test_split(train_data, test_size=0.2, random_state=42)\n",
        "\n",
        "# Verify the split\n",
        "print(f\"Training data shape: {train_data.shape}\")\n",
        "print(f\"Validation data shape: {val_data.shape}\")\n",
        "print(f\"Test data shape: {test_data.shape}\")\n",
        "\n",
        "# Example of the updated data\n",
        "print(\"\\nUpdated Training Data:\")\n",
        "print(train_data.head())\n"
      ]
    },
    {
      "cell_type": "code",
      "source": [
        "import torch\n",
        "import torch.nn as nn\n",
        "\n",
        "# Define the MLP model\n",
        "class MLPModel(nn.Module):\n",
        "    def __init__(self, input_size, hidden_sizes, output_size):\n",
        "        super(MLPModel, self).__init__()\n",
        "        layers = []\n",
        "        in_features = input_size\n",
        "        for hidden_size in hidden_sizes:\n",
        "            layers.append(nn.Linear(in_features, hidden_size))\n",
        "            layers.append(nn.ReLU())\n",
        "            layers.append(nn.Dropout(0.3))\n",
        "            in_features = hidden_size\n",
        "        layers.append(nn.Linear(in_features, output_size))\n",
        "        self.model = nn.Sequential(*layers)\n",
        "\n",
        "    def forward(self, x):\n",
        "        return self.model(x)\n",
        "\n",
        "# Initialize the model\n",
        "input_size = 10000  # Example input size\n",
        "hidden_sizes = [512, 256, 128, 64]\n",
        "output_size = 2  # Two labels\n",
        "model = MLPModel(input_size, hidden_sizes, output_size)\n",
        "\n",
        "# Print the model summary\n",
        "print(model)\n",
        "\n",
        "# Function to count trainable parameters\n",
        "def count_trainable_parameters(model):\n",
        "    return sum(p.numel() for p in model.parameters() if p.requires_grad)\n",
        "\n",
        "# Count and print the number of trainable parameters\n",
        "num_params = count_trainable_parameters(model)\n",
        "print(f\"Number of trainable parameters: {num_params}\")"
      ],
      "metadata": {
        "colab": {
          "base_uri": "https://localhost:8080/"
        },
        "id": "Ov4nHz6N7mbA",
        "outputId": "927973e3-d5e0-49d9-8123-9333e7b9471f"
      },
      "execution_count": 2,
      "outputs": [
        {
          "output_type": "stream",
          "name": "stdout",
          "text": [
            "MLPModel(\n",
            "  (model): Sequential(\n",
            "    (0): Linear(in_features=10000, out_features=512, bias=True)\n",
            "    (1): ReLU()\n",
            "    (2): Dropout(p=0.3, inplace=False)\n",
            "    (3): Linear(in_features=512, out_features=256, bias=True)\n",
            "    (4): ReLU()\n",
            "    (5): Dropout(p=0.3, inplace=False)\n",
            "    (6): Linear(in_features=256, out_features=128, bias=True)\n",
            "    (7): ReLU()\n",
            "    (8): Dropout(p=0.3, inplace=False)\n",
            "    (9): Linear(in_features=128, out_features=64, bias=True)\n",
            "    (10): ReLU()\n",
            "    (11): Dropout(p=0.3, inplace=False)\n",
            "    (12): Linear(in_features=64, out_features=2, bias=True)\n",
            "  )\n",
            ")\n",
            "Number of trainable parameters: 5293122\n"
          ]
        }
      ]
    },
    {
      "cell_type": "code",
      "source": [
        "import torch\n",
        "from torch.utils.data import DataLoader, TensorDataset\n",
        "import torch.nn.functional as F\n",
        "from sklearn.feature_extraction.text import CountVectorizer\n",
        "from sklearn.metrics import accuracy_score\n",
        "import matplotlib.pyplot as plt\n",
        "import numpy as np\n",
        "\n",
        "# Step 1: Convert sentences to vectors using CountVectorizer\n",
        "vectorizer = CountVectorizer(max_features=10000)\n",
        "vectorizer.fit(train_data['sentence'])\n",
        "\n",
        "# Transform all datasets\n",
        "X_train = vectorizer.transform(train_data['sentence']).toarray()\n",
        "y_train = train_data['label'].values\n",
        "\n",
        "X_val = vectorizer.transform(val_data['sentence']).toarray()\n",
        "y_val = val_data['label'].values\n",
        "\n",
        "X_test = vectorizer.transform(test_data['sentence']).toarray()\n",
        "y_test = test_data['label'].values\n",
        "\n",
        "# Convert to PyTorch tensors\n",
        "X_train_tensor = torch.tensor(X_train, dtype=torch.float32)\n",
        "y_train_tensor = torch.tensor(y_train, dtype=torch.long)\n",
        "\n",
        "X_val_tensor = torch.tensor(X_val, dtype=torch.float32)\n",
        "y_val_tensor = torch.tensor(y_val, dtype=torch.long)\n",
        "\n",
        "X_test_tensor = torch.tensor(X_test, dtype=torch.float32)\n",
        "y_test_tensor = torch.tensor(y_test, dtype=torch.long)\n",
        "\n",
        "# Create DataLoaders\n",
        "batch_size = 64\n",
        "train_loader = DataLoader(TensorDataset(X_train_tensor, y_train_tensor), batch_size=batch_size, shuffle=True)\n",
        "val_loader = DataLoader(TensorDataset(X_val_tensor, y_val_tensor), batch_size=batch_size)\n",
        "test_loader = DataLoader(TensorDataset(X_test_tensor, y_test_tensor), batch_size=batch_size)\n",
        "\n",
        "# Step 2: Training Loop\n",
        "device = torch.device('cuda' if torch.cuda.is_available() else 'cpu')\n",
        "model = model.to(device)\n",
        "\n",
        "criterion = nn.CrossEntropyLoss()\n",
        "optimizer = torch.optim.Adam(model.parameters(), lr=1e-3)\n",
        "\n",
        "# Store training stats\n",
        "val_accuracies = []\n",
        "val_losses = []\n",
        "best_accuracy = 0.0\n",
        "\n",
        "for epoch in range(10):\n",
        "    model.train()\n",
        "    for batch_X, batch_y in train_loader:\n",
        "        batch_X, batch_y = batch_X.to(device), batch_y.to(device)\n",
        "        optimizer.zero_grad()\n",
        "        outputs = model(batch_X)\n",
        "        loss = criterion(outputs, batch_y)\n",
        "        loss.backward()\n",
        "        optimizer.step()\n",
        "\n",
        "    # Validation after each epoch\n",
        "    model.eval()\n",
        "    all_preds, all_labels = [], []\n",
        "    total_val_loss = 0.0\n",
        "\n",
        "    with torch.no_grad():\n",
        "        for val_X, val_y in val_loader:\n",
        "            val_X, val_y = val_X.to(device), val_y.to(device)\n",
        "            outputs = model(val_X)\n",
        "            loss = criterion(outputs, val_y)\n",
        "            total_val_loss += loss.item()\n",
        "\n",
        "            preds = torch.argmax(outputs, dim=1)\n",
        "            all_preds.extend(preds.cpu().numpy())\n",
        "            all_labels.extend(val_y.cpu().numpy())\n",
        "\n",
        "    avg_val_loss = total_val_loss / len(val_loader)\n",
        "    val_acc = accuracy_score(all_labels, all_preds)\n",
        "\n",
        "    val_losses.append(avg_val_loss)\n",
        "    val_accuracies.append(val_acc)\n",
        "\n",
        "    print(f\"Epoch {epoch+1}/10 - Val Loss: {avg_val_loss:.4f}, Val Accuracy: {val_acc:.4f}\")\n",
        "\n",
        "    # Save best model\n",
        "    if val_acc > best_accuracy:\n",
        "        best_accuracy = val_acc\n",
        "        torch.save(model.state_dict(), \"checkpoint.pt\")\n",
        "        print(\"✔️ Best model saved!\")\n",
        "\n",
        "# Step 3: Plot Validation Accuracy and Loss\n",
        "epochs = np.arange(1, 11)\n",
        "plt.figure(figsize=(10, 5))\n",
        "\n",
        "plt.subplot(1, 2, 1)\n",
        "plt.plot(epochs, val_accuracies, marker='o', label='Validation Accuracy')\n",
        "plt.title(\"Validation Accuracy\")\n",
        "plt.xlabel(\"Epoch\")\n",
        "plt.ylabel(\"Accuracy\")\n",
        "plt.grid(True)\n",
        "plt.legend()\n",
        "\n",
        "plt.subplot(1, 2, 2)\n",
        "plt.plot(epochs, val_losses, marker='x', color='orange', label='Validation Loss')\n",
        "plt.title(\"Validation Loss\")\n",
        "plt.xlabel(\"Epoch\")\n",
        "plt.ylabel(\"Loss\")\n",
        "plt.grid(True)\n",
        "plt.legend()\n",
        "\n",
        "plt.tight_layout()\n",
        "plt.show()\n"
      ],
      "metadata": {
        "colab": {
          "base_uri": "https://localhost:8080/",
          "height": 698
        },
        "id": "guA4fDDj93Db",
        "outputId": "c9341e1f-75f5-4fed-a27e-2f99df96d29d"
      },
      "execution_count": 9,
      "outputs": [
        {
          "output_type": "stream",
          "name": "stdout",
          "text": [
            "Epoch 1/10 - Val Loss: 9.6195, Val Accuracy: 0.7991\n",
            "✔️ Best model saved!\n",
            "Epoch 2/10 - Val Loss: 13.4193, Val Accuracy: 0.7522\n",
            "Epoch 3/10 - Val Loss: 9.6904, Val Accuracy: 0.7977\n",
            "Epoch 4/10 - Val Loss: 5.8795, Val Accuracy: 0.7912\n",
            "Epoch 5/10 - Val Loss: 5.0801, Val Accuracy: 0.7847\n",
            "Epoch 6/10 - Val Loss: 3.1887, Val Accuracy: 0.7868\n",
            "Epoch 7/10 - Val Loss: 2.8080, Val Accuracy: 0.7955\n",
            "Epoch 8/10 - Val Loss: 2.9368, Val Accuracy: 0.7897\n",
            "Epoch 9/10 - Val Loss: 2.4849, Val Accuracy: 0.7905\n",
            "Epoch 10/10 - Val Loss: 2.9307, Val Accuracy: 0.7803\n"
          ]
        },
        {
          "output_type": "display_data",
          "data": {
            "text/plain": [
              "<Figure size 1000x500 with 2 Axes>"
            ],
            "image/png": "[encoded data removed]"
          },
          "metadata": {}
        }
      ]
    },
    {
      "cell_type": "code",
      "source": [
        "import time\n",
        "import os\n",
        "\n",
        "# Load the best saved model\n",
        "model.load_state_dict(torch.load(\"checkpoint.pt\"))\n",
        "model.eval()\n",
        "model.to(device)\n",
        "\n",
        "# Measure inference time and accuracy\n",
        "all_preds, all_labels = [], []\n",
        "start_time = time.time()\n",
        "\n",
        "with torch.no_grad():\n",
        "    for X_batch, y_batch in test_loader:\n",
        "        X_batch, y_batch = X_batch.to(device), y_batch.to(device)\n",
        "        outputs = model(X_batch)\n",
        "        preds = torch.argmax(outputs, dim=1)\n",
        "        all_preds.extend(preds.cpu().numpy())\n",
        "        all_labels.extend(y_batch.cpu().numpy())\n",
        "\n",
        "end_time = time.time()\n",
        "test_accuracy = accuracy_score(all_labels, all_preds)\n",
        "inference_time_ms = (end_time - start_time) * 1000  # in milliseconds\n",
        "\n",
        "# Get the storage size of the model\n",
        "model_size_mb = os.path.getsize(\"checkpoint.pt\") / 1e6  # in MB\n",
        "\n",
        "# Print final evaluation\n",
        "print(\"\\n Original Model\")\n",
        "print(f\"Accuracy         : {test_accuracy:.4f}\")\n",
        "print(f\"Inference Time   : {inference_time_ms:.2f} ms (entire test set)\")\n",
        "print(f\"Model Size       : {model_size_mb:.2f} MB\")\n"
      ],
      "metadata": {
        "colab": {
          "base_uri": "https://localhost:8080/"
        },
        "id": "GgBY8pLMikzl",
        "outputId": "09f88c7d-3b12-48bf-b19d-b63301b8a045"
      },
      "execution_count": 37,
      "outputs": [
        {
          "output_type": "stream",
          "name": "stdout",
          "text": [
            "\n",
            " Original Model\n",
            "Accuracy         : 0.7809\n",
            "Inference Time   : 61.19 ms (entire test set)\n",
            "Model Size       : 21.18 MB\n"
          ]
        }
      ]
    },
    {
      "cell_type": "code",
      "source": [
        "import torch\n",
        "import torch.nn as nn\n",
        "from torch.quantization import quantize_dynamic\n",
        "import time\n",
        "import os\n",
        "from sklearn.metrics import accuracy_score\n",
        "\n",
        "\n",
        "# Load your trained full-precision model\n",
        "model_fp32 = MLPModel(input_size, hidden_sizes, output_size)\n",
        "model_fp32.load_state_dict(torch.load(\"checkpoint.pt\"))\n",
        "model_fp32.eval()\n",
        "\n",
        "# === Apply dynamic quantization ===\n",
        "model_dynamic_quantized = torch.quantization.quantize_dynamic(\n",
        "    model_fp32,              # original model\n",
        "    {nn.Linear},             # layers to quantize\n",
        "    dtype=torch.qint8        # use int8 quantization\n",
        ")\n",
        "\n",
        "# Save the quantized model weights\n",
        "torch.save(model_dynamic_quantized.state_dict(), \"model_dynamic_quantized.pt\")\n",
        "\n",
        "# === Evaluate quantized model ===\n",
        "def evaluate_model(model, data_loader):\n",
        "    model.eval()\n",
        "    all_preds, all_labels = [], []\n",
        "    start = time.time()\n",
        "    with torch.no_grad():\n",
        "        for X, y in data_loader:\n",
        "            outputs = model(X)\n",
        "            preds = torch.argmax(outputs, dim=1)\n",
        "            all_preds.extend(preds.cpu().numpy())\n",
        "            all_labels.extend(y.cpu().numpy())\n",
        "    end = time.time()\n",
        "    acc = accuracy_score(all_labels, all_preds)\n",
        "    inference_time = (end - start) * 1000  # in milliseconds\n",
        "    return acc, inference_time\n",
        "\n",
        "# Evaluate on your test set (ensure test_loader is defined)\n",
        "acc_dyn, time_dyn = evaluate_model(model_dynamic_quantized, test_loader)\n",
        "\n",
        "# === Report results ===\n",
        "size_dyn = os.path.getsize(\"model_dynamic_quantized.pt\") / 1e6  # in MB\n",
        "print(f\"[Dynamic Quantization - INT8]\")\n",
        "print(f\"Accuracy: {acc_dyn:.4f}\")\n",
        "print(f\"Inference Time: {time_dyn:.2f} ms\")\n",
        "print(f\"Model Size: {size_dyn:.2f} MB\")\n"
      ],
      "metadata": {
        "id": "nJZeFVTbGFhu",
        "colab": {
          "base_uri": "https://localhost:8080/"
        },
        "outputId": "8fbdb505-655b-4ef8-9dba-599eae5aff77"
      },
      "execution_count": 38,
      "outputs": [
        {
          "output_type": "stream",
          "name": "stdout",
          "text": [
            "[Dynamic Quantization - INT8]\n",
            "Accuracy: 0.7820\n",
            "Inference Time: 155.07 ms\n",
            "Model Size: 5.30 MB\n"
          ]
        }
      ]
    },
    {
      "cell_type": "code",
      "source": [
        "import torch\n",
        "import torch.nn as nn\n",
        "import time\n",
        "import os\n",
        "from sklearn.metrics import accuracy_score\n",
        "\n",
        "\n",
        "\n",
        "# Load trained full-precision model\n",
        "model_fp32 = MLPModel(input_size, hidden_sizes, output_size)\n",
        "model_fp32.load_state_dict(torch.load(\"checkpoint.pt\"))\n",
        "model_fp32.eval()\n",
        "\n",
        "# === Convert model to half-precision ===\n",
        "model_half = model_fp32.half()\n",
        "\n",
        "# === Evaluate model ===\n",
        "def evaluate_half_model(model, data_loader):\n",
        "    model.eval()\n",
        "    all_preds, all_labels = [], []\n",
        "    start = time.time()\n",
        "    with torch.no_grad():\n",
        "        for X, y in data_loader:\n",
        "            X = X.half()  # Convert input to half precision\n",
        "            outputs = model(X)\n",
        "            preds = torch.argmax(outputs, dim=1)\n",
        "            all_preds.extend(preds.cpu().numpy())\n",
        "            all_labels.extend(y.cpu().numpy())\n",
        "    end = time.time()\n",
        "    acc = accuracy_score(all_labels, all_preds)\n",
        "    inference_time = (end - start) * 1000  # in ms\n",
        "    return acc, inference_time\n",
        "\n",
        "# Evaluate on test data (make sure test_loader is defined)\n",
        "acc_half, time_half = evaluate_half_model(model_half, test_loader)\n",
        "\n",
        "# Save the half precision model\n",
        "torch.save(model_half.state_dict(), \"model_half_precision.pt\")\n",
        "\n",
        "# Measure model size\n",
        "size_half = os.path.getsize(\"model_half_precision.pt\") / 1e6  # in MB\n",
        "\n",
        "# === Print Results ===\n",
        "print(f\"[Half Precision]\")\n",
        "print(f\"Accuracy: {acc_half:.4f}\")\n",
        "print(f\"Inference Time: {time_half:.2f} ms\")\n",
        "print(f\"Model Size: {size_half:.2f} MB\")\n"
      ],
      "metadata": {
        "id": "Ykr-Q6Ltf1u5",
        "colab": {
          "base_uri": "https://localhost:8080/"
        },
        "outputId": "9f769e28-a875-4d69-fe3a-14a8a51c363c"
      },
      "execution_count": 42,
      "outputs": [
        {
          "output_type": "stream",
          "name": "stdout",
          "text": [
            "[Half Precision]\n",
            "Accuracy: 0.7809\n",
            "Inference Time: 1638.32 ms\n",
            "Model Size: 10.59 MB\n"
          ]
        }
      ]
    },
    {
      "cell_type": "code",
      "source": [
        "import pandas as pd\n",
        "\n",
        "# Data for the models\n",
        "data = {\n",
        "    \"Model\": [\"Original\", \"Half Precision\", \"Dynamic Quantization (INT8)\"],\n",
        "    \"Accuracy (out of 100)\": [78.09, 78.09, 78.20],\n",
        "    \"Inference Time (ms)\": [61.19,1638.32, 155.07],\n",
        "    \"Model Size (MB)\": [21.18, 10.59, 5.30]\n",
        "}\n",
        "\n",
        "# Create DataFrame\n",
        "df = pd.DataFrame(data)\n",
        "\n",
        "# Display the table\n",
        "print(df.to_string(index=False))\n"
      ],
      "metadata": {
        "id": "E2gZJ1m7iOy0",
        "colab": {
          "base_uri": "https://localhost:8080/"
        },
        "outputId": "d7e5c62d-da79-4c34-9f8d-0039fb86c4fd"
      },
      "execution_count": 43,
      "outputs": [
        {
          "output_type": "stream",
          "name": "stdout",
          "text": [
            "                      Model  Accuracy (out of 100)  Inference Time (ms)  Model Size (MB)\n",
            "                   Original                  78.09                61.19            21.18\n",
            "             Half Precision                  78.09              1638.32            10.59\n",
            "Dynamic Quantization (INT8)                  78.20               155.07             5.30\n"
          ]
        }
      ]
    },
    {
      "cell_type": "code",
      "source": [],
      "metadata": {
        "id": "LXBhJZP_7PMD"
      },
      "execution_count": null,
      "outputs": []
    }
  ]
}